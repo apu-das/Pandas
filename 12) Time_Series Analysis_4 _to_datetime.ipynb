{
 "cells": [
  {
   "cell_type": "code",
   "execution_count": 1,
   "id": "322baf53",
   "metadata": {},
   "outputs": [],
   "source": [
    "import pandas as pd"
   ]
  },
  {
   "cell_type": "code",
   "execution_count": 3,
   "id": "81439115",
   "metadata": {},
   "outputs": [
    {
     "data": {
      "text/plain": [
       "DatetimeIndex(['2017-01-05 14:30:00', '2017-01-05 14:30:00',\n",
       "               '2017-01-05 00:00:00', '2017-01-05 00:00:00',\n",
       "               '2017-01-05 00:00:00'],\n",
       "              dtype='datetime64[ns]', freq=None)"
      ]
     },
     "execution_count": 3,
     "metadata": {},
     "output_type": "execute_result"
    }
   ],
   "source": [
    "dates=['2017-01-05 2:30:00 PM','jan 5, 2017 14:30:00','01/05/2017','2017/01/05','20170105']\n",
    "pd.to_datetime(dates)"
   ]
  },
  {
   "cell_type": "markdown",
   "id": "8c74d54b",
   "metadata": {},
   "source": [
    "# In US : mm/dd/yyyy\n",
    "# In Europe : dd/mm/yyyy"
   ]
  },
  {
   "cell_type": "code",
   "execution_count": 4,
   "id": "15200452",
   "metadata": {},
   "outputs": [
    {
     "data": {
      "text/plain": [
       "Timestamp('2017-05-01 00:00:00')"
      ]
     },
     "execution_count": 4,
     "metadata": {},
     "output_type": "execute_result"
    }
   ],
   "source": [
    "pd.to_datetime('5/1/2017')"
   ]
  },
  {
   "cell_type": "code",
   "execution_count": 8,
   "id": "ded12f92",
   "metadata": {},
   "outputs": [
    {
     "data": {
      "text/plain": [
       "Timestamp('2017-01-05 00:00:00')"
      ]
     },
     "execution_count": 8,
     "metadata": {},
     "output_type": "execute_result"
    }
   ],
   "source": [
    "pd.to_datetime('5/1/2017' , dayfirst=True)"
   ]
  },
  {
   "cell_type": "code",
   "execution_count": 9,
   "id": "b04f379c",
   "metadata": {},
   "outputs": [
    {
     "data": {
      "text/plain": [
       "Timestamp('2017-01-05 00:00:00')"
      ]
     },
     "execution_count": 9,
     "metadata": {},
     "output_type": "execute_result"
    }
   ],
   "source": [
    "pd.to_datetime('5#1#2017' , format=\"%d#%m#%Y\")  \n",
    "\n",
    "#can use # sign but need to specify the format"
   ]
  },
  {
   "cell_type": "code",
   "execution_count": 10,
   "id": "35d94064",
   "metadata": {},
   "outputs": [
    {
     "data": {
      "text/plain": [
       "Timestamp('2017-01-05 00:00:00')"
      ]
     },
     "execution_count": 10,
     "metadata": {},
     "output_type": "execute_result"
    }
   ],
   "source": [
    "pd.to_datetime('5$1$2017' , format=\"%d$%m$%Y\")\n",
    "\n",
    "#can use $ sign but need to specify the format"
   ]
  },
  {
   "cell_type": "markdown",
   "id": "ffd0ea25",
   "metadata": {},
   "source": [
    "# to ignore the error while performing  to_datetime"
   ]
  },
  {
   "cell_type": "code",
   "execution_count": 2,
   "id": "412822b7",
   "metadata": {},
   "outputs": [
    {
     "data": {
      "text/plain": [
       "Index(['2017-01-05 2:30:00 PM', 'jan 5, 2017 14:30:00', '01/05/2017',\n",
       "       '2017/01/05', 'abc'],\n",
       "      dtype='object')"
      ]
     },
     "execution_count": 2,
     "metadata": {},
     "output_type": "execute_result"
    }
   ],
   "source": [
    "dates=['2017-01-05 2:30:00 PM','jan 5, 2017 14:30:00','01/05/2017','2017/01/05','abc']\n",
    "pd.to_datetime(dates,errors='ignore')\n",
    "\n",
    "# 'abc' is string data type. "
   ]
  },
  {
   "cell_type": "markdown",
   "id": "025a8ed0",
   "metadata": {},
   "source": [
    "# Epoch (unix time) is number of seconds that have passed since Jan  1,1970 00:00:00 UTC \n",
    "\n",
    "# Number of seconds that have passed since 1970"
   ]
  },
  {
   "cell_type": "code",
   "execution_count": 6,
   "id": "cc7d1a1c",
   "metadata": {},
   "outputs": [
    {
     "data": {
      "text/plain": [
       "DatetimeIndex(['2017-07-29 19:32:29'], dtype='datetime64[ns]', freq=None)"
      ]
     },
     "execution_count": 6,
     "metadata": {},
     "output_type": "execute_result"
    }
   ],
   "source": [
    "# Epoch to normal date_time\n",
    "t=1501356749\n",
    "dt=pd.to_datetime([t], unit='s') \n",
    "dt                               #dt = date time"
   ]
  },
  {
   "cell_type": "code",
   "execution_count": 7,
   "id": "ae7a7bd1",
   "metadata": {},
   "outputs": [
    {
     "data": {
      "text/plain": [
       "array([1501356749000000000], dtype=int64)"
      ]
     },
     "execution_count": 7,
     "metadata": {},
     "output_type": "execute_result"
    }
   ],
   "source": [
    "# Normal date_time to Epoch\n",
    "\n",
    "dt.view('int64')"
   ]
  },
  {
   "cell_type": "code",
   "execution_count": null,
   "id": "f9cfafd1",
   "metadata": {},
   "outputs": [],
   "source": [
    "# extra zeros because by default it is in nano seconds"
   ]
  },
  {
   "cell_type": "code",
   "execution_count": null,
   "id": "61def8a0",
   "metadata": {},
   "outputs": [],
   "source": []
  },
  {
   "cell_type": "code",
   "execution_count": null,
   "id": "35cb8f20",
   "metadata": {},
   "outputs": [],
   "source": []
  },
  {
   "cell_type": "code",
   "execution_count": null,
   "id": "626652e9",
   "metadata": {},
   "outputs": [],
   "source": []
  },
  {
   "cell_type": "code",
   "execution_count": null,
   "id": "ed9ce34c",
   "metadata": {},
   "outputs": [],
   "source": []
  }
 ],
 "metadata": {
  "kernelspec": {
   "display_name": "Python 3 (ipykernel)",
   "language": "python",
   "name": "python3"
  },
  "language_info": {
   "codemirror_mode": {
    "name": "ipython",
    "version": 3
   },
   "file_extension": ".py",
   "mimetype": "text/x-python",
   "name": "python",
   "nbconvert_exporter": "python",
   "pygments_lexer": "ipython3",
   "version": "3.11.4"
  }
 },
 "nbformat": 4,
 "nbformat_minor": 5
}
